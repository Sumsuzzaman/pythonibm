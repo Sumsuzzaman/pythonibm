{
 "cells": [
  {
   "cell_type": "markdown",
   "metadata": {},
   "source": [
    "# file Operation"
   ]
  },
  {
   "cell_type": "code",
   "execution_count": 4,
   "metadata": {},
   "outputs": [],
   "source": [
    "file1 = open(\"example2.txt\",\"w\")"
   ]
  },
  {
   "cell_type": "code",
   "execution_count": 10,
   "metadata": {},
   "outputs": [],
   "source": [
    "file1.write(\"This is Line 1\")\n",
    "file1.close()"
   ]
  },
  {
   "cell_type": "code",
   "execution_count": 13,
   "metadata": {},
   "outputs": [
    {
     "data": {
      "text/plain": [
       "'This is Line 1This is Line 1'"
      ]
     },
     "execution_count": 13,
     "metadata": {},
     "output_type": "execute_result"
    }
   ],
   "source": [
    "file1 = open(\"example2.txt\",\"r\")\n",
    "filetxt = file1.read()\n",
    "filetxt"
   ]
  },
  {
   "cell_type": "code",
   "execution_count": 14,
   "metadata": {},
   "outputs": [],
   "source": [
    "lines = [\"This is Line A\\n\",\"This is Line B\\n\",\"This is Line C\\n\"]\n",
    "with open(\"example2.txt\",\"w\") as file2:\n",
    "    for line in lines:\n",
    "        file2.write(line)"
   ]
  },
  {
   "cell_type": "code",
   "execution_count": 18,
   "metadata": {},
   "outputs": [
    {
     "name": "stdout",
     "output_type": "stream",
     "text": [
      "This is Line A\n",
      "This is Line B\n",
      "This is Line C\n",
      "\n"
     ]
    }
   ],
   "source": [
    "file2 = open(\"example2.txt\",\"r\")\n",
    "filetxt = file2.read()\n",
    "print(filetxt)\n",
    "file2.close()"
   ]
  },
  {
   "cell_type": "code",
   "execution_count": 24,
   "metadata": {},
   "outputs": [
    {
     "name": "stdout",
     "output_type": "stream",
     "text": [
      "This is Line A\n",
      "\n"
     ]
    }
   ],
   "source": [
    "with open(\"example2.txt\",\"r\") as readfile:\n",
    "    #print(readfile.read())\n",
    "    print(readfile.readline())"
   ]
  },
  {
   "cell_type": "code",
   "execution_count": 34,
   "metadata": {},
   "outputs": [
    {
     "name": "stdout",
     "output_type": "stream",
     "text": [
      "\n"
     ]
    }
   ],
   "source": [
    "with open (\"example2.txt\",'a+') as appendfile:\n",
    "    appendfile.write(\"This is line D\\n\")\n",
    "    appendfile.write(\"This is line E\\n\")\n",
    "    appendfile.write(\"This is line F\\n\")\n",
    "    print(appendfile.read())"
   ]
  },
  {
   "cell_type": "code",
   "execution_count": 35,
   "metadata": {},
   "outputs": [
    {
     "name": "stdout",
     "output_type": "stream",
     "text": [
      "Initial Location: 240\n",
      "Read nothing\n",
      "\n",
      "New Location : 0\n",
      "This is Line A\n",
      "This is Line B\n",
      "This is Line C\n",
      "This is line C\n",
      "This is line D\n",
      "This is line E\n",
      "This is line D\n",
      "This is line E\n",
      "This is line F\n",
      "This is line D\n",
      "This is line E\n",
      "This is line F\n",
      "This is line D\n",
      "This is line E\n",
      "This is line F\n",
      "\n",
      "Location after read: 240\n"
     ]
    }
   ],
   "source": [
    "with open('example2.txt', 'a+') as testwritefile:\n",
    "    print(\"Initial Location: {}\".format(testwritefile.tell()))\n",
    "    \n",
    "    data = testwritefile.read()\n",
    "    if (not data):  #empty strings return false in python\n",
    "            print('Read nothing') \n",
    "    else: \n",
    "            print(testwritefile.read())\n",
    "            \n",
    "    testwritefile.seek(0,0) # move 0 bytes from beginning.\n",
    "    \n",
    "    print(\"\\nNew Location : {}\".format(testwritefile.tell()))\n",
    "    data = testwritefile.read()\n",
    "    if (not data): \n",
    "            print('Read nothing') \n",
    "    else: \n",
    "            print(data)\n",
    "    \n",
    "    print(\"Location after read: {}\".format(testwritefile.tell()) )"
   ]
  },
  {
   "cell_type": "code",
   "execution_count": 37,
   "metadata": {},
   "outputs": [],
   "source": [
    "#copy to another file\n",
    "with open('example2.txt','r') as readfile:\n",
    "    with open('Example3.txt','w') as writefile:\n",
    "          for line in readfile:\n",
    "                writefile.write(line)\n"
   ]
  },
  {
   "cell_type": "code",
   "execution_count": 38,
   "metadata": {},
   "outputs": [
    {
     "name": "stdout",
     "output_type": "stream",
     "text": [
      "This is Line A\n",
      "This is Line B\n",
      "This is Line C\n",
      "This is line C\n",
      "This is line D\n",
      "This is line E\n",
      "This is line D\n",
      "This is line E\n",
      "This is line F\n",
      "This is line D\n",
      "This is line E\n",
      "This is line F\n",
      "This is line D\n",
      "This is line E\n",
      "This is line F\n",
      "\n"
     ]
    }
   ],
   "source": [
    "with open('example3.txt','r') as readfile:\n",
    "    print(readfile.read())"
   ]
  },
  {
   "cell_type": "code",
   "execution_count": null,
   "metadata": {},
   "outputs": [],
   "source": []
  }
 ],
 "metadata": {
  "kernelspec": {
   "display_name": "Python 3",
   "language": "python",
   "name": "python3"
  },
  "language_info": {
   "codemirror_mode": {
    "name": "ipython",
    "version": 3
   },
   "file_extension": ".py",
   "mimetype": "text/x-python",
   "name": "python",
   "nbconvert_exporter": "python",
   "pygments_lexer": "ipython3",
   "version": "3.8.5"
  }
 },
 "nbformat": 4,
 "nbformat_minor": 4
}
